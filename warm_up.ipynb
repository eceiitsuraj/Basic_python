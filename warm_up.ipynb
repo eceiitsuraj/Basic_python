{
 "cells": [
  {
   "cell_type": "markdown",
   "id": "addf7220",
   "metadata": {},
   "source": [
    "# Warm_up For milestone project1"
   ]
  },
  {
   "cell_type": "code",
   "execution_count": 1,
   "id": "913d700b",
   "metadata": {},
   "outputs": [
    {
     "name": "stdout",
     "output_type": "stream",
     "text": [
      "15\n"
     ]
    }
   ],
   "source": [
    "num = int(input())"
   ]
  },
  {
   "cell_type": "code",
   "execution_count": 2,
   "id": "b3876ab2",
   "metadata": {},
   "outputs": [],
   "source": [
    "mylist = list(x for x in range(0,num+1))"
   ]
  },
  {
   "cell_type": "code",
   "execution_count": 3,
   "id": "23a8720f",
   "metadata": {},
   "outputs": [
    {
     "data": {
      "text/plain": [
       "[0, 1, 2, 3, 4, 5, 6, 7, 8, 9, 10, 11, 12, 13, 14, 15]"
      ]
     },
     "execution_count": 3,
     "metadata": {},
     "output_type": "execute_result"
    }
   ],
   "source": [
    "mylist"
   ]
  },
  {
   "cell_type": "code",
   "execution_count": 4,
   "id": "f6b6de7e",
   "metadata": {},
   "outputs": [],
   "source": [
    "def display_list(mylist):\n",
    "    return mylist"
   ]
  },
  {
   "cell_type": "code",
   "execution_count": 5,
   "id": "327dd864",
   "metadata": {},
   "outputs": [
    {
     "data": {
      "text/plain": [
       "[0, 1, 2, 3, 4, 5, 6, 7, 8, 9, 10, 11, 12, 13, 14, 15]"
      ]
     },
     "execution_count": 5,
     "metadata": {},
     "output_type": "execute_result"
    }
   ],
   "source": [
    "display_list(mylist)"
   ]
  },
  {
   "cell_type": "code",
   "execution_count": null,
   "id": "85cc8720",
   "metadata": {},
   "outputs": [],
   "source": []
  },
  {
   "cell_type": "code",
   "execution_count": 6,
   "id": "3f08054f",
   "metadata": {},
   "outputs": [
    {
     "name": "stdout",
     "output_type": "stream",
     "text": [
      "Enter a number: 14\n"
     ]
    },
    {
     "data": {
      "text/plain": [
       "'14'"
      ]
     },
     "execution_count": 6,
     "metadata": {},
     "output_type": "execute_result"
    }
   ],
   "source": [
    "input(\"Enter a number: \")"
   ]
  },
  {
   "cell_type": "code",
   "execution_count": 7,
   "id": "05ffe96e",
   "metadata": {},
   "outputs": [
    {
     "name": "stdout",
     "output_type": "stream",
     "text": [
      "Enter a number: 15\n"
     ]
    }
   ],
   "source": [
    "res = input(\"Enter a number: \")"
   ]
  },
  {
   "cell_type": "code",
   "execution_count": 8,
   "id": "58d2516d",
   "metadata": {},
   "outputs": [
    {
     "data": {
      "text/plain": [
       "'15'"
      ]
     },
     "execution_count": 8,
     "metadata": {},
     "output_type": "execute_result"
    }
   ],
   "source": [
    "res"
   ]
  },
  {
   "cell_type": "code",
   "execution_count": 9,
   "id": "c18a0e78",
   "metadata": {},
   "outputs": [
    {
     "data": {
      "text/plain": [
       "str"
      ]
     },
     "execution_count": 9,
     "metadata": {},
     "output_type": "execute_result"
    }
   ],
   "source": [
    "type(res)"
   ]
  },
  {
   "cell_type": "code",
   "execution_count": 10,
   "id": "c1e14b01",
   "metadata": {},
   "outputs": [
    {
     "data": {
      "text/plain": [
       "15"
      ]
     },
     "execution_count": 10,
     "metadata": {},
     "output_type": "execute_result"
    }
   ],
   "source": [
    "int(res)"
   ]
  },
  {
   "cell_type": "code",
   "execution_count": 11,
   "id": "1017ac55",
   "metadata": {},
   "outputs": [
    {
     "name": "stdout",
     "output_type": "stream",
     "text": [
      "Enter an number : 65\n"
     ]
    }
   ],
   "source": [
    "res = int(input(\"Enter an number : \"))"
   ]
  },
  {
   "cell_type": "code",
   "execution_count": 12,
   "id": "36d342c3",
   "metadata": {},
   "outputs": [
    {
     "data": {
      "text/plain": [
       "65"
      ]
     },
     "execution_count": 12,
     "metadata": {},
     "output_type": "execute_result"
    }
   ],
   "source": [
    "res"
   ]
  },
  {
   "cell_type": "code",
   "execution_count": 13,
   "id": "6ed24b50",
   "metadata": {},
   "outputs": [
    {
     "data": {
      "text/plain": [
       "int"
      ]
     },
     "execution_count": 13,
     "metadata": {},
     "output_type": "execute_result"
    }
   ],
   "source": [
    "type(res)"
   ]
  },
  {
   "cell_type": "code",
   "execution_count": 14,
   "id": "a215cd57",
   "metadata": {},
   "outputs": [
    {
     "data": {
      "text/plain": [
       "65"
      ]
     },
     "execution_count": 14,
     "metadata": {},
     "output_type": "execute_result"
    }
   ],
   "source": [
    "res"
   ]
  },
  {
   "cell_type": "code",
   "execution_count": null,
   "id": "40e42611",
   "metadata": {},
   "outputs": [],
   "source": []
  },
  {
   "cell_type": "code",
   "execution_count": null,
   "id": "a22e0df4",
   "metadata": {},
   "outputs": [],
   "source": []
  },
  {
   "cell_type": "code",
   "execution_count": 15,
   "id": "8adf1644",
   "metadata": {},
   "outputs": [],
   "source": [
    "def user_value():\n",
    "    choice = input(\"Enter a number (0-10): \")\n",
    "    return int(choice)"
   ]
  },
  {
   "cell_type": "code",
   "execution_count": 16,
   "id": "0e1dfb11",
   "metadata": {},
   "outputs": [
    {
     "name": "stdout",
     "output_type": "stream",
     "text": [
      "Enter a number (0-10): 5\n"
     ]
    }
   ],
   "source": [
    "result = user_value()"
   ]
  },
  {
   "cell_type": "code",
   "execution_count": null,
   "id": "46ff585e",
   "metadata": {},
   "outputs": [],
   "source": []
  },
  {
   "cell_type": "code",
   "execution_count": 17,
   "id": "8fd051d2",
   "metadata": {},
   "outputs": [
    {
     "data": {
      "text/plain": [
       "int"
      ]
     },
     "execution_count": 17,
     "metadata": {},
     "output_type": "execute_result"
    }
   ],
   "source": [
    "type(result)"
   ]
  },
  {
   "cell_type": "markdown",
   "id": "8e1b93c0",
   "metadata": {},
   "source": [
    "# Validating user input"
   ]
  },
  {
   "cell_type": "code",
   "execution_count": 18,
   "id": "aa784ea7",
   "metadata": {},
   "outputs": [],
   "source": [
    "a = '101'"
   ]
  },
  {
   "cell_type": "code",
   "execution_count": 19,
   "id": "24b2ef75",
   "metadata": {},
   "outputs": [
    {
     "data": {
      "text/plain": [
       "True"
      ]
     },
     "execution_count": 19,
     "metadata": {},
     "output_type": "execute_result"
    }
   ],
   "source": [
    "a.isdigit()"
   ]
  },
  {
   "cell_type": "code",
   "execution_count": 20,
   "id": "332453ea",
   "metadata": {},
   "outputs": [],
   "source": [
    "b = 'two'"
   ]
  },
  {
   "cell_type": "code",
   "execution_count": 21,
   "id": "79c80664",
   "metadata": {},
   "outputs": [
    {
     "data": {
      "text/plain": [
       "False"
      ]
     },
     "execution_count": 21,
     "metadata": {},
     "output_type": "execute_result"
    }
   ],
   "source": [
    "b.isdigit()"
   ]
  },
  {
   "cell_type": "markdown",
   "id": "13014cab",
   "metadata": {},
   "source": [
    "## Acceptable value"
   ]
  },
  {
   "cell_type": "code",
   "execution_count": 22,
   "id": "e36e619c",
   "metadata": {},
   "outputs": [],
   "source": [
    "#Model1\n",
    "def user_choice():\n",
    "    choice = 'wrong'\n",
    "    while choice.isdigit() == False:\n",
    "        choice = input(\"choose a number: \")\n",
    "    return int(choice)\n",
    "    "
   ]
  },
  {
   "cell_type": "code",
   "execution_count": 23,
   "id": "7a27b780",
   "metadata": {},
   "outputs": [
    {
     "name": "stdout",
     "output_type": "stream",
     "text": [
      "choose a number: five\n",
      "choose a number: nine\n",
      "choose a number: six\n",
      "choose a number: 47\n"
     ]
    },
    {
     "data": {
      "text/plain": [
       "47"
      ]
     },
     "execution_count": 23,
     "metadata": {},
     "output_type": "execute_result"
    }
   ],
   "source": [
    "user_choice()"
   ]
  },
  {
   "cell_type": "code",
   "execution_count": 24,
   "id": "65b4ed1b",
   "metadata": {},
   "outputs": [
    {
     "name": "stdout",
     "output_type": "stream",
     "text": [
      "choose a number: two\n",
      "choose a number: 58\n"
     ]
    },
    {
     "data": {
      "text/plain": [
       "58"
      ]
     },
     "execution_count": 24,
     "metadata": {},
     "output_type": "execute_result"
    }
   ],
   "source": [
    "user_choice()"
   ]
  },
  {
   "cell_type": "code",
   "execution_count": null,
   "id": "f02dfa11",
   "metadata": {},
   "outputs": [],
   "source": []
  },
  {
   "cell_type": "code",
   "execution_count": null,
   "id": "8f16dbaf",
   "metadata": {},
   "outputs": [],
   "source": []
  },
  {
   "cell_type": "code",
   "execution_count": 25,
   "id": "dae09d44",
   "metadata": {},
   "outputs": [],
   "source": [
    "#model 2\n",
    "def user_choice():\n",
    "    choice = 'wrong'\n",
    "    while choice.isdigit() == False:\n",
    "        choice = input(\"choose a number: \")\n",
    "        if choice.isdigit() ==False:\n",
    "            print(\"sorry,but you did not enter an integer.please enter valid number.\")\n",
    "            \n",
    "    return int(choice)"
   ]
  },
  {
   "cell_type": "code",
   "execution_count": 27,
   "id": "526fe556",
   "metadata": {},
   "outputs": [
    {
     "name": "stdout",
     "output_type": "stream",
     "text": [
      "choose a number: sixty nine\n",
      "sorry,but you did not enter an integer.please enter valid number.\n",
      "choose a number: 69\n"
     ]
    },
    {
     "data": {
      "text/plain": [
       "69"
      ]
     },
     "execution_count": 27,
     "metadata": {},
     "output_type": "execute_result"
    }
   ],
   "source": [
    "user_choice()"
   ]
  },
  {
   "cell_type": "code",
   "execution_count": null,
   "id": "b6d2e65c",
   "metadata": {},
   "outputs": [],
   "source": []
  },
  {
   "cell_type": "markdown",
   "id": "8adf1c64",
   "metadata": {},
   "source": [
    "# Clear output:"
   ]
  },
  {
   "cell_type": "code",
   "execution_count": 28,
   "id": "3615d038",
   "metadata": {},
   "outputs": [],
   "source": [
    "from IPython.display import clear_output\n",
    "clear_output()"
   ]
  },
  {
   "cell_type": "code",
   "execution_count": 29,
   "id": "c9b4f320",
   "metadata": {},
   "outputs": [
    {
     "name": "stdout",
     "output_type": "stream",
     "text": [
      "fifty seven\n"
     ]
    }
   ],
   "source": [
    "\n",
    "s = 57\n",
    "print(s)\n",
    "clear_output()\n",
    "d = 'fifty seven'\n",
    "print(d)"
   ]
  },
  {
   "cell_type": "code",
   "execution_count": 30,
   "id": "de358bcc",
   "metadata": {},
   "outputs": [
    {
     "name": "stdout",
     "output_type": "stream",
     "text": [
      "57\n",
      "fifty seven\n"
     ]
    }
   ],
   "source": [
    "s = 57\n",
    "print(s)\n",
    "#clear_output()\n",
    "d = 'fifty seven'\n",
    "print(d)"
   ]
  },
  {
   "cell_type": "code",
   "execution_count": 31,
   "id": "b8a05f09",
   "metadata": {},
   "outputs": [],
   "source": [
    "#model 3\n",
    "def user_choice():\n",
    "    choice = ''\n",
    "    while choice.isdigit() == False:\n",
    "        choice = input(\"choose a number: \")\n",
    "        if choice.isdigit() ==False:\n",
    "            clear_output()\n",
    "            print(\"sorry,but you did not enter an integer.please enter valid number.\")\n",
    "            \n",
    "    return int(choice)"
   ]
  },
  {
   "cell_type": "code",
   "execution_count": 32,
   "id": "c8dab339",
   "metadata": {},
   "outputs": [
    {
     "name": "stdout",
     "output_type": "stream",
     "text": [
      "sorry,but you did not enter an integer.please enter valid number.\n",
      "choose a number: 53\n"
     ]
    },
    {
     "data": {
      "text/plain": [
       "53"
      ]
     },
     "execution_count": 32,
     "metadata": {},
     "output_type": "execute_result"
    }
   ],
   "source": [
    "user_choice()"
   ]
  },
  {
   "cell_type": "code",
   "execution_count": null,
   "id": "3264e057",
   "metadata": {},
   "outputs": [],
   "source": []
  },
  {
   "cell_type": "code",
   "execution_count": 33,
   "id": "dbdcc85a",
   "metadata": {},
   "outputs": [],
   "source": [
    "#model 4\n",
    "def user_data():\n",
    "    data =''\n",
    "    while data not in ['0','1','2','3']:\n",
    "        data = input(\"Enter a number among 0,1,2 and 3 : \")\n",
    "        if data not in ['0','1','2','3']:\n",
    "            clear_output()\n",
    "            print(\"Please enter valid input(0,1,2,3)\")\n",
    "    return int(data)"
   ]
  },
  {
   "cell_type": "code",
   "execution_count": 34,
   "id": "ec976c62",
   "metadata": {
    "scrolled": true
   },
   "outputs": [
    {
     "name": "stdout",
     "output_type": "stream",
     "text": [
      "Please enter valid input(0,1,2,3)\n",
      "Enter a number among 0,1,2 and 3 : 2\n"
     ]
    },
    {
     "data": {
      "text/plain": [
       "2"
      ]
     },
     "execution_count": 34,
     "metadata": {},
     "output_type": "execute_result"
    }
   ],
   "source": [
    "user_data()"
   ]
  },
  {
   "cell_type": "code",
   "execution_count": 35,
   "id": "fbe995c6",
   "metadata": {},
   "outputs": [],
   "source": [
    "#model 5\n",
    "def user_data():\n",
    "    data = ''\n",
    "    within_range = False\n",
    "    while data.isdigit() == False or within_range == False:\n",
    "        data = input(\"Please enter a number (0-10): \")\n",
    "        if data.isdigit() == False:\n",
    "            clear_output()\n",
    "            print(\"Sorry that is not a digit\")\n",
    "        if data.isdigit() == True:\n",
    "            if int(data) in range(0,11):\n",
    "                within_range = True\n",
    "            else:\n",
    "                \n",
    "                within_range = False\n",
    "                \n",
    "    return int(data)"
   ]
  },
  {
   "cell_type": "code",
   "execution_count": 38,
   "id": "261e7b57",
   "metadata": {},
   "outputs": [
    {
     "name": "stdout",
     "output_type": "stream",
     "text": [
      "Please enter a number (0-10): 14\n",
      "Please enter a number (0-10): 15\n",
      "Please enter a number (0-10): 09\n"
     ]
    },
    {
     "data": {
      "text/plain": [
       "9"
      ]
     },
     "execution_count": 38,
     "metadata": {},
     "output_type": "execute_result"
    }
   ],
   "source": [
    "user_data()"
   ]
  },
  {
   "cell_type": "code",
   "execution_count": null,
   "id": "54509854",
   "metadata": {},
   "outputs": [],
   "source": []
  },
  {
   "cell_type": "code",
   "execution_count": null,
   "id": "33d3bc4b",
   "metadata": {},
   "outputs": [],
   "source": []
  }
 ],
 "metadata": {
  "kernelspec": {
   "display_name": "Python 3 (ipykernel)",
   "language": "python",
   "name": "python3"
  },
  "language_info": {
   "codemirror_mode": {
    "name": "ipython",
    "version": 3
   },
   "file_extension": ".py",
   "mimetype": "text/x-python",
   "name": "python",
   "nbconvert_exporter": "python",
   "pygments_lexer": "ipython3",
   "version": "3.9.7"
  }
 },
 "nbformat": 4,
 "nbformat_minor": 5
}
