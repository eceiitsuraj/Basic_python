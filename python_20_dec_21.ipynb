{
 "cells": [
  {
   "cell_type": "code",
   "execution_count": 5,
   "id": "daf1407d",
   "metadata": {},
   "outputs": [
    {
     "name": "stdout",
     "output_type": "stream",
     "text": [
      "User Name: vsuraj\n",
      "Password: 20122021\n",
      "Welcome! This a python learning series\n"
     ]
    }
   ],
   "source": [
    "user_name = input('User Name: ')\n",
    "#pass_word = input ('Password: ')\n",
    "if user_name != 'vsuraj':\n",
    "    print(\"Incorrect user name\")\n",
    "else:\n",
    "    pass_word = input ('Password: ')\n",
    "    if pass_word != '20122021':\n",
    "        print(\"incorrect password\")\n",
    "    else:\n",
    "        print(\"Welcome! This a python learning series\")\n",
    "    "
   ]
  },
  {
   "cell_type": "code",
   "execution_count": null,
   "id": "a85f076d",
   "metadata": {},
   "outputs": [],
   "source": []
  }
 ],
 "metadata": {
  "kernelspec": {
   "display_name": "Python 3 (ipykernel)",
   "language": "python",
   "name": "python3"
  },
  "language_info": {
   "codemirror_mode": {
    "name": "ipython",
    "version": 3
   },
   "file_extension": ".py",
   "mimetype": "text/x-python",
   "name": "python",
   "nbconvert_exporter": "python",
   "pygments_lexer": "ipython3",
   "version": "3.9.7"
  }
 },
 "nbformat": 4,
 "nbformat_minor": 5
}
